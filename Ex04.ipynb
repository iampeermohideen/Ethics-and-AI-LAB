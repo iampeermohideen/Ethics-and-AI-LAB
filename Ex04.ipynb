{
 "cells": [
  {
   "cell_type": "code",
   "execution_count": 5,
   "id": "52a98c70",
   "metadata": {},
   "outputs": [
    {
     "name": "stdout",
     "output_type": "stream",
     "text": [
      "Accuracy of perceptron without bias: 0.6\n",
      "Accuracy of perceptron with bias: 0.7333333333333333\n"
     ]
    }
   ],
   "source": [
    "import numpy as np\n",
    "import pandas as pd\n",
    "from sklearn.model_selection import train_test_split\n",
    "from sklearn.linear_model import Perceptron\n",
    "from sklearn.metrics import accuracy_score\n",
    "\n",
    "url = \"https://archive.ics.uci.edu/ml/machine-learning-databases/iris/iris.data\"\n",
    "column_names = ['sepal_length', 'sepal_width', 'petal_length', 'petal_width', 'species']\n",
    "data = pd.read_csv(url, names=column_names)\n",
    "\n",
    "X = data.drop('species', axis=1)\n",
    "y = data['species']\n",
    "\n",
    "X_train, X_test, y_train, y_test = train_test_split(X, y, test_size=0.2, random_state=0)\n",
    "\n",
    "model_no_bias = Perceptron(fit_intercept=False)\n",
    "model_no_bias.fit(X_train, y_train)\n",
    "y_pred_no_bias = model_no_bias.predict(X_test)\n",
    "accuracy_no_bias = accuracy_score(y_test, y_pred_no_bias)\n",
    "print(\"Accuracy of perceptron without bias:\", accuracy_no_bias)\n",
    "\n",
    "model_with_bias = Perceptron(fit_intercept=True)\n",
    "model_with_bias.fit(X_train, y_train)\n",
    "y_pred_with_bias = model_with_bias.predict(X_test)\n",
    "accuracy_with_bias = accuracy_score(y_test, y_pred_with_bias)\n",
    "print(\"Accuracy of perceptron with bias:\", accuracy_with_bias)"
   ]
  },
  {
   "cell_type": "code",
   "execution_count": null,
   "id": "c2b62e15",
   "metadata": {},
   "outputs": [],
   "source": []
  }
 ],
 "metadata": {
  "kernelspec": {
   "display_name": "Python 3 (ipykernel)",
   "language": "python",
   "name": "python3"
  },
  "language_info": {
   "codemirror_mode": {
    "name": "ipython",
    "version": 3
   },
   "file_extension": ".py",
   "mimetype": "text/x-python",
   "name": "python",
   "nbconvert_exporter": "python",
   "pygments_lexer": "ipython3",
   "version": "3.9.12"
  }
 },
 "nbformat": 4,
 "nbformat_minor": 5
}
